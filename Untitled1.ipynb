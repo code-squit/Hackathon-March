{
 "cells": [
  {
   "cell_type": "code",
   "execution_count": 38,
   "id": "e0653829",
   "metadata": {},
   "outputs": [],
   "source": [
    "import numpy as np\n",
    "import pandas as pd\n",
    "import re\n",
    "import seaborn as sns\n",
    "import matplotlib.pyplot as plt\n",
    "\n",
    "import warnings\n",
    "warnings.filterwarnings('ignore')"
   ]
  },
  {
   "cell_type": "code",
   "execution_count": 2,
   "id": "a587d82b",
   "metadata": {},
   "outputs": [],
   "source": [
    "df = pd.read_csv('data.csv')"
   ]
  },
  {
   "cell_type": "code",
   "execution_count": 3,
   "id": "edc1593f",
   "metadata": {},
   "outputs": [
    {
     "data": {
      "text/html": [
       "<div>\n",
       "<style scoped>\n",
       "    .dataframe tbody tr th:only-of-type {\n",
       "        vertical-align: middle;\n",
       "    }\n",
       "\n",
       "    .dataframe tbody tr th {\n",
       "        vertical-align: top;\n",
       "    }\n",
       "\n",
       "    .dataframe thead th {\n",
       "        text-align: right;\n",
       "    }\n",
       "</style>\n",
       "<table border=\"1\" class=\"dataframe\">\n",
       "  <thead>\n",
       "    <tr style=\"text-align: right;\">\n",
       "      <th></th>\n",
       "      <th>Unnamed: 0</th>\n",
       "      <th>Title</th>\n",
       "      <th>Movie Info</th>\n",
       "      <th>Distributor</th>\n",
       "      <th>Release Date</th>\n",
       "      <th>Domestic Sales (in $)</th>\n",
       "      <th>International Sales (in $)</th>\n",
       "      <th>World Sales (in $)</th>\n",
       "      <th>Genre</th>\n",
       "      <th>Movie Runtime</th>\n",
       "      <th>License</th>\n",
       "    </tr>\n",
       "  </thead>\n",
       "  <tbody>\n",
       "    <tr>\n",
       "      <th>0</th>\n",
       "      <td>0</td>\n",
       "      <td>Star Wars: Episode VII - The Force Awakens (2015)</td>\n",
       "      <td>As a new threat to the galaxy rises, Rey, a de...</td>\n",
       "      <td>Walt Disney Studios Motion Pictures</td>\n",
       "      <td>16-Dec-15</td>\n",
       "      <td>936662225</td>\n",
       "      <td>1132859475</td>\n",
       "      <td>2069521700</td>\n",
       "      <td>['Action', 'Adventure', 'Sci-Fi']</td>\n",
       "      <td>2 hr 18 min</td>\n",
       "      <td>PG-13</td>\n",
       "    </tr>\n",
       "    <tr>\n",
       "      <th>1</th>\n",
       "      <td>1</td>\n",
       "      <td>Avengers: Endgame (2019)</td>\n",
       "      <td>After the devastating events of Avengers: Infi...</td>\n",
       "      <td>Walt Disney Studios Motion Pictures</td>\n",
       "      <td>24-Apr-19</td>\n",
       "      <td>858373000</td>\n",
       "      <td>1939128328</td>\n",
       "      <td>2797501328</td>\n",
       "      <td>['Action', 'Adventure', 'Drama', 'Sci-Fi']</td>\n",
       "      <td>3 hr 1 min</td>\n",
       "      <td>PG-13</td>\n",
       "    </tr>\n",
       "  </tbody>\n",
       "</table>\n",
       "</div>"
      ],
      "text/plain": [
       "   Unnamed: 0                                              Title  \\\n",
       "0           0  Star Wars: Episode VII - The Force Awakens (2015)   \n",
       "1           1                           Avengers: Endgame (2019)   \n",
       "\n",
       "                                          Movie Info  \\\n",
       "0  As a new threat to the galaxy rises, Rey, a de...   \n",
       "1  After the devastating events of Avengers: Infi...   \n",
       "\n",
       "                           Distributor Release Date  Domestic Sales (in $)  \\\n",
       "0  Walt Disney Studios Motion Pictures    16-Dec-15              936662225   \n",
       "1  Walt Disney Studios Motion Pictures    24-Apr-19              858373000   \n",
       "\n",
       "   International Sales (in $)  World Sales (in $)  \\\n",
       "0                  1132859475          2069521700   \n",
       "1                  1939128328          2797501328   \n",
       "\n",
       "                                        Genre Movie Runtime License  \n",
       "0           ['Action', 'Adventure', 'Sci-Fi']   2 hr 18 min   PG-13  \n",
       "1  ['Action', 'Adventure', 'Drama', 'Sci-Fi']    3 hr 1 min   PG-13  "
      ]
     },
     "execution_count": 3,
     "metadata": {},
     "output_type": "execute_result"
    }
   ],
   "source": [
    "df.head(2)"
   ]
  },
  {
   "cell_type": "code",
   "execution_count": 4,
   "id": "bb8ebbbf",
   "metadata": {},
   "outputs": [],
   "source": [
    "df.drop('Unnamed: 0',axis=1,inplace=True)"
   ]
  },
  {
   "cell_type": "code",
   "execution_count": 5,
   "id": "f66501a3",
   "metadata": {},
   "outputs": [
    {
     "data": {
      "text/html": [
       "<div>\n",
       "<style scoped>\n",
       "    .dataframe tbody tr th:only-of-type {\n",
       "        vertical-align: middle;\n",
       "    }\n",
       "\n",
       "    .dataframe tbody tr th {\n",
       "        vertical-align: top;\n",
       "    }\n",
       "\n",
       "    .dataframe thead th {\n",
       "        text-align: right;\n",
       "    }\n",
       "</style>\n",
       "<table border=\"1\" class=\"dataframe\">\n",
       "  <thead>\n",
       "    <tr style=\"text-align: right;\">\n",
       "      <th></th>\n",
       "      <th>Title</th>\n",
       "      <th>Movie Info</th>\n",
       "      <th>Distributor</th>\n",
       "      <th>Release Date</th>\n",
       "      <th>Domestic Sales (in $)</th>\n",
       "      <th>International Sales (in $)</th>\n",
       "      <th>World Sales (in $)</th>\n",
       "      <th>Genre</th>\n",
       "      <th>Movie Runtime</th>\n",
       "      <th>License</th>\n",
       "    </tr>\n",
       "  </thead>\n",
       "  <tbody>\n",
       "    <tr>\n",
       "      <th>0</th>\n",
       "      <td>Star Wars: Episode VII - The Force Awakens (2015)</td>\n",
       "      <td>As a new threat to the galaxy rises, Rey, a de...</td>\n",
       "      <td>Walt Disney Studios Motion Pictures</td>\n",
       "      <td>16-Dec-15</td>\n",
       "      <td>936662225</td>\n",
       "      <td>1132859475</td>\n",
       "      <td>2069521700</td>\n",
       "      <td>['Action', 'Adventure', 'Sci-Fi']</td>\n",
       "      <td>2 hr 18 min</td>\n",
       "      <td>PG-13</td>\n",
       "    </tr>\n",
       "  </tbody>\n",
       "</table>\n",
       "</div>"
      ],
      "text/plain": [
       "                                               Title  \\\n",
       "0  Star Wars: Episode VII - The Force Awakens (2015)   \n",
       "\n",
       "                                          Movie Info  \\\n",
       "0  As a new threat to the galaxy rises, Rey, a de...   \n",
       "\n",
       "                           Distributor Release Date  Domestic Sales (in $)  \\\n",
       "0  Walt Disney Studios Motion Pictures    16-Dec-15              936662225   \n",
       "\n",
       "   International Sales (in $)  World Sales (in $)  \\\n",
       "0                  1132859475          2069521700   \n",
       "\n",
       "                               Genre Movie Runtime License  \n",
       "0  ['Action', 'Adventure', 'Sci-Fi']   2 hr 18 min   PG-13  "
      ]
     },
     "execution_count": 5,
     "metadata": {},
     "output_type": "execute_result"
    }
   ],
   "source": [
    "df.head(1)"
   ]
  },
  {
   "cell_type": "code",
   "execution_count": 6,
   "id": "485a2d98",
   "metadata": {},
   "outputs": [
    {
     "data": {
      "text/plain": [
       "Title                           0\n",
       "Movie Info                      0\n",
       "Distributor                     0\n",
       "Release Date                  118\n",
       "Domestic Sales (in $)           0\n",
       "International Sales (in $)      0\n",
       "World Sales (in $)              0\n",
       "Genre                           0\n",
       "Movie Runtime                   0\n",
       "License                       174\n",
       "dtype: int64"
      ]
     },
     "execution_count": 6,
     "metadata": {},
     "output_type": "execute_result"
    }
   ],
   "source": [
    "df.isnull().sum()"
   ]
  },
  {
   "cell_type": "code",
   "execution_count": 7,
   "id": "dabeeb62",
   "metadata": {},
   "outputs": [
    {
     "data": {
      "text/plain": [
       "(918, 10)"
      ]
     },
     "execution_count": 7,
     "metadata": {},
     "output_type": "execute_result"
    }
   ],
   "source": [
    "df.shape"
   ]
  },
  {
   "cell_type": "code",
   "execution_count": 8,
   "id": "b473a692",
   "metadata": {},
   "outputs": [
    {
     "name": "stdout",
     "output_type": "stream",
     "text": [
      "<class 'pandas.core.frame.DataFrame'>\n",
      "RangeIndex: 918 entries, 0 to 917\n",
      "Data columns (total 10 columns):\n",
      " #   Column                      Non-Null Count  Dtype \n",
      "---  ------                      --------------  ----- \n",
      " 0   Title                       918 non-null    object\n",
      " 1   Movie Info                  918 non-null    object\n",
      " 2   Distributor                 918 non-null    object\n",
      " 3   Release Date                800 non-null    object\n",
      " 4   Domestic Sales (in $)       918 non-null    int64 \n",
      " 5   International Sales (in $)  918 non-null    int64 \n",
      " 6   World Sales (in $)          918 non-null    int64 \n",
      " 7   Genre                       918 non-null    object\n",
      " 8   Movie Runtime               918 non-null    object\n",
      " 9   License                     744 non-null    object\n",
      "dtypes: int64(3), object(7)\n",
      "memory usage: 71.8+ KB\n"
     ]
    }
   ],
   "source": [
    "df.info()"
   ]
  },
  {
   "cell_type": "code",
   "execution_count": 9,
   "id": "b32f7e10",
   "metadata": {},
   "outputs": [
    {
     "data": {
      "text/html": [
       "<div>\n",
       "<style scoped>\n",
       "    .dataframe tbody tr th:only-of-type {\n",
       "        vertical-align: middle;\n",
       "    }\n",
       "\n",
       "    .dataframe tbody tr th {\n",
       "        vertical-align: top;\n",
       "    }\n",
       "\n",
       "    .dataframe thead th {\n",
       "        text-align: right;\n",
       "    }\n",
       "</style>\n",
       "<table border=\"1\" class=\"dataframe\">\n",
       "  <thead>\n",
       "    <tr style=\"text-align: right;\">\n",
       "      <th></th>\n",
       "      <th>Title</th>\n",
       "      <th>Movie Info</th>\n",
       "      <th>Distributor</th>\n",
       "      <th>Release Date</th>\n",
       "      <th>Domestic Sales (in $)</th>\n",
       "      <th>International Sales (in $)</th>\n",
       "      <th>World Sales (in $)</th>\n",
       "      <th>Genre</th>\n",
       "      <th>Movie Runtime</th>\n",
       "      <th>License</th>\n",
       "    </tr>\n",
       "  </thead>\n",
       "  <tbody>\n",
       "    <tr>\n",
       "      <th>0</th>\n",
       "      <td>Star Wars: Episode VII - The Force Awakens (2015)</td>\n",
       "      <td>As a new threat to the galaxy rises, Rey, a de...</td>\n",
       "      <td>Walt Disney Studios Motion Pictures</td>\n",
       "      <td>16-Dec-15</td>\n",
       "      <td>936662225</td>\n",
       "      <td>1132859475</td>\n",
       "      <td>2069521700</td>\n",
       "      <td>['Action', 'Adventure', 'Sci-Fi']</td>\n",
       "      <td>2 hr 18 min</td>\n",
       "      <td>PG-13</td>\n",
       "    </tr>\n",
       "  </tbody>\n",
       "</table>\n",
       "</div>"
      ],
      "text/plain": [
       "                                               Title  \\\n",
       "0  Star Wars: Episode VII - The Force Awakens (2015)   \n",
       "\n",
       "                                          Movie Info  \\\n",
       "0  As a new threat to the galaxy rises, Rey, a de...   \n",
       "\n",
       "                           Distributor Release Date  Domestic Sales (in $)  \\\n",
       "0  Walt Disney Studios Motion Pictures    16-Dec-15              936662225   \n",
       "\n",
       "   International Sales (in $)  World Sales (in $)  \\\n",
       "0                  1132859475          2069521700   \n",
       "\n",
       "                               Genre Movie Runtime License  \n",
       "0  ['Action', 'Adventure', 'Sci-Fi']   2 hr 18 min   PG-13  "
      ]
     },
     "execution_count": 9,
     "metadata": {},
     "output_type": "execute_result"
    }
   ],
   "source": [
    "df.head(1)"
   ]
  },
  {
   "cell_type": "code",
   "execution_count": 10,
   "id": "3dbc66ad",
   "metadata": {},
   "outputs": [],
   "source": [
    "df['Release Date'] = pd.to_datetime(df['Release Date'])"
   ]
  },
  {
   "cell_type": "code",
   "execution_count": 11,
   "id": "c7d0e907",
   "metadata": {},
   "outputs": [],
   "source": [
    "df['Release year']=df['Title'].apply(lambda x: x.split()[-1].replace('(','').replace(')',''))"
   ]
  },
  {
   "cell_type": "code",
   "execution_count": 12,
   "id": "a7280ccc",
   "metadata": {},
   "outputs": [
    {
     "data": {
      "text/plain": [
       "0      2015\n",
       "1      2019\n",
       "2      2009\n",
       "3      2018\n",
       "4      2018\n",
       "       ... \n",
       "913    2004\n",
       "914    2001\n",
       "915    2010\n",
       "916    2003\n",
       "917    2011\n",
       "Name: Release year, Length: 918, dtype: object"
      ]
     },
     "execution_count": 12,
     "metadata": {},
     "output_type": "execute_result"
    }
   ],
   "source": [
    "df['Release year']"
   ]
  },
  {
   "cell_type": "code",
   "execution_count": 13,
   "id": "365ffa11",
   "metadata": {},
   "outputs": [
    {
     "data": {
      "text/plain": [
       "Index(['Title', 'Movie Info', 'Distributor', 'Release Date',\n",
       "       'Domestic Sales (in $)', 'International Sales (in $)',\n",
       "       'World Sales (in $)', 'Genre', 'Movie Runtime', 'License',\n",
       "       'Release year'],\n",
       "      dtype='object')"
      ]
     },
     "execution_count": 13,
     "metadata": {},
     "output_type": "execute_result"
    }
   ],
   "source": [
    "df.columns"
   ]
  },
  {
   "cell_type": "code",
   "execution_count": 14,
   "id": "f6a5ad1b",
   "metadata": {},
   "outputs": [],
   "source": [
    "df1=df.drop('Release Date',axis=1)"
   ]
  },
  {
   "cell_type": "code",
   "execution_count": 15,
   "id": "ca0c2d22",
   "metadata": {},
   "outputs": [
    {
     "data": {
      "text/html": [
       "<div>\n",
       "<style scoped>\n",
       "    .dataframe tbody tr th:only-of-type {\n",
       "        vertical-align: middle;\n",
       "    }\n",
       "\n",
       "    .dataframe tbody tr th {\n",
       "        vertical-align: top;\n",
       "    }\n",
       "\n",
       "    .dataframe thead th {\n",
       "        text-align: right;\n",
       "    }\n",
       "</style>\n",
       "<table border=\"1\" class=\"dataframe\">\n",
       "  <thead>\n",
       "    <tr style=\"text-align: right;\">\n",
       "      <th></th>\n",
       "      <th>Title</th>\n",
       "      <th>Movie Info</th>\n",
       "      <th>Distributor</th>\n",
       "      <th>Domestic Sales (in $)</th>\n",
       "      <th>International Sales (in $)</th>\n",
       "      <th>World Sales (in $)</th>\n",
       "      <th>Genre</th>\n",
       "      <th>Movie Runtime</th>\n",
       "      <th>License</th>\n",
       "      <th>Release year</th>\n",
       "    </tr>\n",
       "  </thead>\n",
       "  <tbody>\n",
       "    <tr>\n",
       "      <th>0</th>\n",
       "      <td>Star Wars: Episode VII - The Force Awakens (2015)</td>\n",
       "      <td>As a new threat to the galaxy rises, Rey, a de...</td>\n",
       "      <td>Walt Disney Studios Motion Pictures</td>\n",
       "      <td>936662225</td>\n",
       "      <td>1132859475</td>\n",
       "      <td>2069521700</td>\n",
       "      <td>['Action', 'Adventure', 'Sci-Fi']</td>\n",
       "      <td>2 hr 18 min</td>\n",
       "      <td>PG-13</td>\n",
       "      <td>2015</td>\n",
       "    </tr>\n",
       "    <tr>\n",
       "      <th>1</th>\n",
       "      <td>Avengers: Endgame (2019)</td>\n",
       "      <td>After the devastating events of Avengers: Infi...</td>\n",
       "      <td>Walt Disney Studios Motion Pictures</td>\n",
       "      <td>858373000</td>\n",
       "      <td>1939128328</td>\n",
       "      <td>2797501328</td>\n",
       "      <td>['Action', 'Adventure', 'Drama', 'Sci-Fi']</td>\n",
       "      <td>3 hr 1 min</td>\n",
       "      <td>PG-13</td>\n",
       "      <td>2019</td>\n",
       "    </tr>\n",
       "    <tr>\n",
       "      <th>2</th>\n",
       "      <td>Avatar (2009)</td>\n",
       "      <td>A paraplegic Marine dispatched to the moon Pan...</td>\n",
       "      <td>Twentieth Century Fox</td>\n",
       "      <td>760507625</td>\n",
       "      <td>2086738578</td>\n",
       "      <td>2847246203</td>\n",
       "      <td>['Action', 'Adventure', 'Fantasy', 'Sci-Fi']</td>\n",
       "      <td>2 hr 42 min</td>\n",
       "      <td>PG-13</td>\n",
       "      <td>2009</td>\n",
       "    </tr>\n",
       "    <tr>\n",
       "      <th>3</th>\n",
       "      <td>Black Panther (2018)</td>\n",
       "      <td>T'Challa, heir to the hidden but advanced king...</td>\n",
       "      <td>Walt Disney Studios Motion Pictures</td>\n",
       "      <td>700426566</td>\n",
       "      <td>647171407</td>\n",
       "      <td>1347597973</td>\n",
       "      <td>['Action', 'Adventure', 'Sci-Fi']</td>\n",
       "      <td>2 hr 14 min</td>\n",
       "      <td>NaN</td>\n",
       "      <td>2018</td>\n",
       "    </tr>\n",
       "    <tr>\n",
       "      <th>4</th>\n",
       "      <td>Avengers: Infinity War (2018)</td>\n",
       "      <td>The Avengers and their allies must be willing ...</td>\n",
       "      <td>Walt Disney Studios Motion Pictures</td>\n",
       "      <td>678815482</td>\n",
       "      <td>1369544272</td>\n",
       "      <td>2048359754</td>\n",
       "      <td>['Action', 'Adventure', 'Sci-Fi']</td>\n",
       "      <td>2 hr 29 min</td>\n",
       "      <td>NaN</td>\n",
       "      <td>2018</td>\n",
       "    </tr>\n",
       "  </tbody>\n",
       "</table>\n",
       "</div>"
      ],
      "text/plain": [
       "                                               Title  \\\n",
       "0  Star Wars: Episode VII - The Force Awakens (2015)   \n",
       "1                           Avengers: Endgame (2019)   \n",
       "2                                      Avatar (2009)   \n",
       "3                               Black Panther (2018)   \n",
       "4                      Avengers: Infinity War (2018)   \n",
       "\n",
       "                                          Movie Info  \\\n",
       "0  As a new threat to the galaxy rises, Rey, a de...   \n",
       "1  After the devastating events of Avengers: Infi...   \n",
       "2  A paraplegic Marine dispatched to the moon Pan...   \n",
       "3  T'Challa, heir to the hidden but advanced king...   \n",
       "4  The Avengers and their allies must be willing ...   \n",
       "\n",
       "                           Distributor  Domestic Sales (in $)  \\\n",
       "0  Walt Disney Studios Motion Pictures              936662225   \n",
       "1  Walt Disney Studios Motion Pictures              858373000   \n",
       "2                Twentieth Century Fox              760507625   \n",
       "3  Walt Disney Studios Motion Pictures              700426566   \n",
       "4  Walt Disney Studios Motion Pictures              678815482   \n",
       "\n",
       "   International Sales (in $)  World Sales (in $)  \\\n",
       "0                  1132859475          2069521700   \n",
       "1                  1939128328          2797501328   \n",
       "2                  2086738578          2847246203   \n",
       "3                   647171407          1347597973   \n",
       "4                  1369544272          2048359754   \n",
       "\n",
       "                                          Genre Movie Runtime License  \\\n",
       "0             ['Action', 'Adventure', 'Sci-Fi']   2 hr 18 min   PG-13   \n",
       "1    ['Action', 'Adventure', 'Drama', 'Sci-Fi']    3 hr 1 min   PG-13   \n",
       "2  ['Action', 'Adventure', 'Fantasy', 'Sci-Fi']   2 hr 42 min   PG-13   \n",
       "3             ['Action', 'Adventure', 'Sci-Fi']   2 hr 14 min     NaN   \n",
       "4             ['Action', 'Adventure', 'Sci-Fi']   2 hr 29 min     NaN   \n",
       "\n",
       "  Release year  \n",
       "0         2015  \n",
       "1         2019  \n",
       "2         2009  \n",
       "3         2018  \n",
       "4         2018  "
      ]
     },
     "execution_count": 15,
     "metadata": {},
     "output_type": "execute_result"
    }
   ],
   "source": [
    "df1.head()"
   ]
  },
  {
   "cell_type": "code",
   "execution_count": 16,
   "id": "a50a27a6",
   "metadata": {},
   "outputs": [],
   "source": [
    "df1['Movie Runtime(in min)']=df1['Movie Runtime'].apply(lambda x : int(x.split()[0])*60+int(x.split()[2]) if 'min' in x else int(x.split()[0])*60)"
   ]
  },
  {
   "cell_type": "code",
   "execution_count": 17,
   "id": "8204e275",
   "metadata": {},
   "outputs": [],
   "source": [
    "df1=df1.drop('Movie Info',axis=1)"
   ]
  },
  {
   "cell_type": "code",
   "execution_count": 18,
   "id": "c61c3e25",
   "metadata": {},
   "outputs": [],
   "source": [
    "df1=df1.drop('Movie Runtime',axis=1)"
   ]
  },
  {
   "cell_type": "code",
   "execution_count": 19,
   "id": "e054f8da",
   "metadata": {},
   "outputs": [],
   "source": [
    "df1['Title']=df1['Title'].apply(lambda x: x.split('(')[0])"
   ]
  },
  {
   "cell_type": "code",
   "execution_count": 20,
   "id": "cedf16a0",
   "metadata": {},
   "outputs": [
    {
     "data": {
      "text/html": [
       "<div>\n",
       "<style scoped>\n",
       "    .dataframe tbody tr th:only-of-type {\n",
       "        vertical-align: middle;\n",
       "    }\n",
       "\n",
       "    .dataframe tbody tr th {\n",
       "        vertical-align: top;\n",
       "    }\n",
       "\n",
       "    .dataframe thead th {\n",
       "        text-align: right;\n",
       "    }\n",
       "</style>\n",
       "<table border=\"1\" class=\"dataframe\">\n",
       "  <thead>\n",
       "    <tr style=\"text-align: right;\">\n",
       "      <th></th>\n",
       "      <th>Title</th>\n",
       "      <th>Distributor</th>\n",
       "      <th>Domestic Sales (in $)</th>\n",
       "      <th>International Sales (in $)</th>\n",
       "      <th>World Sales (in $)</th>\n",
       "      <th>Genre</th>\n",
       "      <th>License</th>\n",
       "      <th>Release year</th>\n",
       "      <th>Movie Runtime(in min)</th>\n",
       "    </tr>\n",
       "  </thead>\n",
       "  <tbody>\n",
       "    <tr>\n",
       "      <th>0</th>\n",
       "      <td>Star Wars: Episode VII - The Force Awakens</td>\n",
       "      <td>Walt Disney Studios Motion Pictures</td>\n",
       "      <td>936662225</td>\n",
       "      <td>1132859475</td>\n",
       "      <td>2069521700</td>\n",
       "      <td>['Action', 'Adventure', 'Sci-Fi']</td>\n",
       "      <td>PG-13</td>\n",
       "      <td>2015</td>\n",
       "      <td>138</td>\n",
       "    </tr>\n",
       "    <tr>\n",
       "      <th>1</th>\n",
       "      <td>Avengers: Endgame</td>\n",
       "      <td>Walt Disney Studios Motion Pictures</td>\n",
       "      <td>858373000</td>\n",
       "      <td>1939128328</td>\n",
       "      <td>2797501328</td>\n",
       "      <td>['Action', 'Adventure', 'Drama', 'Sci-Fi']</td>\n",
       "      <td>PG-13</td>\n",
       "      <td>2019</td>\n",
       "      <td>181</td>\n",
       "    </tr>\n",
       "    <tr>\n",
       "      <th>2</th>\n",
       "      <td>Avatar</td>\n",
       "      <td>Twentieth Century Fox</td>\n",
       "      <td>760507625</td>\n",
       "      <td>2086738578</td>\n",
       "      <td>2847246203</td>\n",
       "      <td>['Action', 'Adventure', 'Fantasy', 'Sci-Fi']</td>\n",
       "      <td>PG-13</td>\n",
       "      <td>2009</td>\n",
       "      <td>162</td>\n",
       "    </tr>\n",
       "    <tr>\n",
       "      <th>3</th>\n",
       "      <td>Black Panther</td>\n",
       "      <td>Walt Disney Studios Motion Pictures</td>\n",
       "      <td>700426566</td>\n",
       "      <td>647171407</td>\n",
       "      <td>1347597973</td>\n",
       "      <td>['Action', 'Adventure', 'Sci-Fi']</td>\n",
       "      <td>NaN</td>\n",
       "      <td>2018</td>\n",
       "      <td>134</td>\n",
       "    </tr>\n",
       "    <tr>\n",
       "      <th>4</th>\n",
       "      <td>Avengers: Infinity War</td>\n",
       "      <td>Walt Disney Studios Motion Pictures</td>\n",
       "      <td>678815482</td>\n",
       "      <td>1369544272</td>\n",
       "      <td>2048359754</td>\n",
       "      <td>['Action', 'Adventure', 'Sci-Fi']</td>\n",
       "      <td>NaN</td>\n",
       "      <td>2018</td>\n",
       "      <td>149</td>\n",
       "    </tr>\n",
       "  </tbody>\n",
       "</table>\n",
       "</div>"
      ],
      "text/plain": [
       "                                         Title  \\\n",
       "0  Star Wars: Episode VII - The Force Awakens    \n",
       "1                           Avengers: Endgame    \n",
       "2                                      Avatar    \n",
       "3                               Black Panther    \n",
       "4                      Avengers: Infinity War    \n",
       "\n",
       "                           Distributor  Domestic Sales (in $)  \\\n",
       "0  Walt Disney Studios Motion Pictures              936662225   \n",
       "1  Walt Disney Studios Motion Pictures              858373000   \n",
       "2                Twentieth Century Fox              760507625   \n",
       "3  Walt Disney Studios Motion Pictures              700426566   \n",
       "4  Walt Disney Studios Motion Pictures              678815482   \n",
       "\n",
       "   International Sales (in $)  World Sales (in $)  \\\n",
       "0                  1132859475          2069521700   \n",
       "1                  1939128328          2797501328   \n",
       "2                  2086738578          2847246203   \n",
       "3                   647171407          1347597973   \n",
       "4                  1369544272          2048359754   \n",
       "\n",
       "                                          Genre License Release year  \\\n",
       "0             ['Action', 'Adventure', 'Sci-Fi']   PG-13         2015   \n",
       "1    ['Action', 'Adventure', 'Drama', 'Sci-Fi']   PG-13         2019   \n",
       "2  ['Action', 'Adventure', 'Fantasy', 'Sci-Fi']   PG-13         2009   \n",
       "3             ['Action', 'Adventure', 'Sci-Fi']     NaN         2018   \n",
       "4             ['Action', 'Adventure', 'Sci-Fi']     NaN         2018   \n",
       "\n",
       "   Movie Runtime(in min)  \n",
       "0                    138  \n",
       "1                    181  \n",
       "2                    162  \n",
       "3                    134  \n",
       "4                    149  "
      ]
     },
     "execution_count": 20,
     "metadata": {},
     "output_type": "execute_result"
    }
   ],
   "source": [
    "df1.head()"
   ]
  },
  {
   "cell_type": "code",
   "execution_count": 21,
   "id": "a81b087f",
   "metadata": {},
   "outputs": [
    {
     "data": {
      "text/plain": [
       "PG-13    363\n",
       "R        194\n",
       "PG       173\n",
       "G         14\n",
       "Name: License, dtype: int64"
      ]
     },
     "execution_count": 21,
     "metadata": {},
     "output_type": "execute_result"
    }
   ],
   "source": [
    "df1.License.value_counts()"
   ]
  },
  {
   "cell_type": "code",
   "execution_count": 22,
   "id": "a8bc28a7",
   "metadata": {},
   "outputs": [
    {
     "data": {
      "text/plain": [
       "Title                           0\n",
       "Distributor                     0\n",
       "Domestic Sales (in $)           0\n",
       "International Sales (in $)      0\n",
       "World Sales (in $)              0\n",
       "Genre                           0\n",
       "License                       174\n",
       "Release year                    0\n",
       "Movie Runtime(in min)           0\n",
       "dtype: int64"
      ]
     },
     "execution_count": 22,
     "metadata": {},
     "output_type": "execute_result"
    }
   ],
   "source": [
    "df1.isnull().sum()"
   ]
  },
  {
   "cell_type": "code",
   "execution_count": 23,
   "id": "8a032af4",
   "metadata": {},
   "outputs": [
    {
     "data": {
      "text/plain": [
       "Title                           0\n",
       "Distributor                     0\n",
       "Domestic Sales (in $)           0\n",
       "International Sales (in $)      0\n",
       "World Sales (in $)              0\n",
       "Genre                           0\n",
       "License                       174\n",
       "Release year                    0\n",
       "Movie Runtime(in min)           0\n",
       "dtype: int64"
      ]
     },
     "execution_count": 23,
     "metadata": {},
     "output_type": "execute_result"
    }
   ],
   "source": [
    "df1.isnull().sum()"
   ]
  },
  {
   "cell_type": "code",
   "execution_count": 24,
   "id": "8d7201cc",
   "metadata": {},
   "outputs": [],
   "source": [
    "df1=df1.fillna('none')"
   ]
  },
  {
   "cell_type": "code",
   "execution_count": 25,
   "id": "391c4a25",
   "metadata": {},
   "outputs": [
    {
     "data": {
      "text/html": [
       "<div>\n",
       "<style scoped>\n",
       "    .dataframe tbody tr th:only-of-type {\n",
       "        vertical-align: middle;\n",
       "    }\n",
       "\n",
       "    .dataframe tbody tr th {\n",
       "        vertical-align: top;\n",
       "    }\n",
       "\n",
       "    .dataframe thead th {\n",
       "        text-align: right;\n",
       "    }\n",
       "</style>\n",
       "<table border=\"1\" class=\"dataframe\">\n",
       "  <thead>\n",
       "    <tr style=\"text-align: right;\">\n",
       "      <th></th>\n",
       "      <th>Title</th>\n",
       "      <th>Distributor</th>\n",
       "      <th>Domestic Sales (in $)</th>\n",
       "      <th>International Sales (in $)</th>\n",
       "      <th>World Sales (in $)</th>\n",
       "      <th>Genre</th>\n",
       "      <th>License</th>\n",
       "      <th>Release year</th>\n",
       "      <th>Movie Runtime(in min)</th>\n",
       "    </tr>\n",
       "  </thead>\n",
       "  <tbody>\n",
       "    <tr>\n",
       "      <th>3</th>\n",
       "      <td>Black Panther</td>\n",
       "      <td>Walt Disney Studios Motion Pictures</td>\n",
       "      <td>700426566</td>\n",
       "      <td>647171407</td>\n",
       "      <td>1347597973</td>\n",
       "      <td>['Action', 'Adventure', 'Sci-Fi']</td>\n",
       "      <td>none</td>\n",
       "      <td>2018</td>\n",
       "      <td>134</td>\n",
       "    </tr>\n",
       "    <tr>\n",
       "      <th>4</th>\n",
       "      <td>Avengers: Infinity War</td>\n",
       "      <td>Walt Disney Studios Motion Pictures</td>\n",
       "      <td>678815482</td>\n",
       "      <td>1369544272</td>\n",
       "      <td>2048359754</td>\n",
       "      <td>['Action', 'Adventure', 'Sci-Fi']</td>\n",
       "      <td>none</td>\n",
       "      <td>2018</td>\n",
       "      <td>149</td>\n",
       "    </tr>\n",
       "    <tr>\n",
       "      <th>5</th>\n",
       "      <td>Spider-Man: No Way Home</td>\n",
       "      <td>Sony Pictures Entertainment (SPE)</td>\n",
       "      <td>675813257</td>\n",
       "      <td>868642706</td>\n",
       "      <td>1544455963</td>\n",
       "      <td>['Action', 'Adventure', 'Fantasy', 'Sci-Fi']</td>\n",
       "      <td>none</td>\n",
       "      <td>2021</td>\n",
       "      <td>148</td>\n",
       "    </tr>\n",
       "    <tr>\n",
       "      <th>10</th>\n",
       "      <td>Incredibles 2</td>\n",
       "      <td>Walt Disney Studios Motion Pictures</td>\n",
       "      <td>608581744</td>\n",
       "      <td>634507500</td>\n",
       "      <td>1243089244</td>\n",
       "      <td>['Action', 'Adventure', 'Animation', 'Comedy',...</td>\n",
       "      <td>none</td>\n",
       "      <td>2018</td>\n",
       "      <td>118</td>\n",
       "    </tr>\n",
       "    <tr>\n",
       "      <th>16</th>\n",
       "      <td>Finding Dory</td>\n",
       "      <td>Walt Disney Studios Motion Pictures</td>\n",
       "      <td>486295561</td>\n",
       "      <td>542275381</td>\n",
       "      <td>1028570942</td>\n",
       "      <td>['Adventure', 'Animation', 'Comedy', 'Family']</td>\n",
       "      <td>none</td>\n",
       "      <td>2016</td>\n",
       "      <td>97</td>\n",
       "    </tr>\n",
       "    <tr>\n",
       "      <th>...</th>\n",
       "      <td>...</td>\n",
       "      <td>...</td>\n",
       "      <td>...</td>\n",
       "      <td>...</td>\n",
       "      <td>...</td>\n",
       "      <td>...</td>\n",
       "      <td>...</td>\n",
       "      <td>...</td>\n",
       "      <td>...</td>\n",
       "    </tr>\n",
       "    <tr>\n",
       "      <th>891</th>\n",
       "      <td>Mr. Holland's Opus</td>\n",
       "      <td>Walt Disney Studios Motion Pictures</td>\n",
       "      <td>82569971</td>\n",
       "      <td>23700000</td>\n",
       "      <td>106269971</td>\n",
       "      <td>['Drama', 'Music']</td>\n",
       "      <td>none</td>\n",
       "      <td>1995</td>\n",
       "      <td>143</td>\n",
       "    </tr>\n",
       "    <tr>\n",
       "      <th>896</th>\n",
       "      <td>Bridge to Terabithia</td>\n",
       "      <td>Walt Disney Studios Motion Pictures</td>\n",
       "      <td>82272442</td>\n",
       "      <td>55314621</td>\n",
       "      <td>137587063</td>\n",
       "      <td>['Drama', 'Family', 'Fantasy']</td>\n",
       "      <td>none</td>\n",
       "      <td>2007</td>\n",
       "      <td>96</td>\n",
       "    </tr>\n",
       "    <tr>\n",
       "      <th>903</th>\n",
       "      <td>MASH</td>\n",
       "      <td>Twentieth Century Fox</td>\n",
       "      <td>81600000</td>\n",
       "      <td>81600000</td>\n",
       "      <td>81600000</td>\n",
       "      <td>['Comedy', 'Drama', 'War']</td>\n",
       "      <td>none</td>\n",
       "      <td>1970</td>\n",
       "      <td>116</td>\n",
       "    </tr>\n",
       "    <tr>\n",
       "      <th>912</th>\n",
       "      <td>Congo</td>\n",
       "      <td>Paramount Pictures</td>\n",
       "      <td>81022101</td>\n",
       "      <td>71000000</td>\n",
       "      <td>152022101</td>\n",
       "      <td>['Action', 'Adventure', 'Mystery', 'Sci-Fi']</td>\n",
       "      <td>none</td>\n",
       "      <td>1995</td>\n",
       "      <td>109</td>\n",
       "    </tr>\n",
       "    <tr>\n",
       "      <th>914</th>\n",
       "      <td>Jimmy Neutron: Boy Genius</td>\n",
       "      <td>Paramount Pictures</td>\n",
       "      <td>80936232</td>\n",
       "      <td>22056304</td>\n",
       "      <td>102992536</td>\n",
       "      <td>['Action', 'Adventure', 'Animation', 'Comedy',...</td>\n",
       "      <td>none</td>\n",
       "      <td>2001</td>\n",
       "      <td>82</td>\n",
       "    </tr>\n",
       "  </tbody>\n",
       "</table>\n",
       "<p>174 rows × 9 columns</p>\n",
       "</div>"
      ],
      "text/plain": [
       "                          Title                          Distributor  \\\n",
       "3                Black Panther   Walt Disney Studios Motion Pictures   \n",
       "4       Avengers: Infinity War   Walt Disney Studios Motion Pictures   \n",
       "5      Spider-Man: No Way Home     Sony Pictures Entertainment (SPE)   \n",
       "10               Incredibles 2   Walt Disney Studios Motion Pictures   \n",
       "16                Finding Dory   Walt Disney Studios Motion Pictures   \n",
       "..                          ...                                  ...   \n",
       "891         Mr. Holland's Opus   Walt Disney Studios Motion Pictures   \n",
       "896       Bridge to Terabithia   Walt Disney Studios Motion Pictures   \n",
       "903                       MASH                 Twentieth Century Fox   \n",
       "912                      Congo                    Paramount Pictures   \n",
       "914  Jimmy Neutron: Boy Genius                    Paramount Pictures   \n",
       "\n",
       "     Domestic Sales (in $)  International Sales (in $)  World Sales (in $)  \\\n",
       "3                700426566                   647171407          1347597973   \n",
       "4                678815482                  1369544272          2048359754   \n",
       "5                675813257                   868642706          1544455963   \n",
       "10               608581744                   634507500          1243089244   \n",
       "16               486295561                   542275381          1028570942   \n",
       "..                     ...                         ...                 ...   \n",
       "891               82569971                    23700000           106269971   \n",
       "896               82272442                    55314621           137587063   \n",
       "903               81600000                    81600000            81600000   \n",
       "912               81022101                    71000000           152022101   \n",
       "914               80936232                    22056304           102992536   \n",
       "\n",
       "                                                 Genre License Release year  \\\n",
       "3                    ['Action', 'Adventure', 'Sci-Fi']    none         2018   \n",
       "4                    ['Action', 'Adventure', 'Sci-Fi']    none         2018   \n",
       "5         ['Action', 'Adventure', 'Fantasy', 'Sci-Fi']    none         2021   \n",
       "10   ['Action', 'Adventure', 'Animation', 'Comedy',...    none         2018   \n",
       "16      ['Adventure', 'Animation', 'Comedy', 'Family']    none         2016   \n",
       "..                                                 ...     ...          ...   \n",
       "891                                 ['Drama', 'Music']    none         1995   \n",
       "896                     ['Drama', 'Family', 'Fantasy']    none         2007   \n",
       "903                         ['Comedy', 'Drama', 'War']    none         1970   \n",
       "912       ['Action', 'Adventure', 'Mystery', 'Sci-Fi']    none         1995   \n",
       "914  ['Action', 'Adventure', 'Animation', 'Comedy',...    none         2001   \n",
       "\n",
       "     Movie Runtime(in min)  \n",
       "3                      134  \n",
       "4                      149  \n",
       "5                      148  \n",
       "10                     118  \n",
       "16                      97  \n",
       "..                     ...  \n",
       "891                    143  \n",
       "896                     96  \n",
       "903                    116  \n",
       "912                    109  \n",
       "914                     82  \n",
       "\n",
       "[174 rows x 9 columns]"
      ]
     },
     "execution_count": 25,
     "metadata": {},
     "output_type": "execute_result"
    }
   ],
   "source": [
    "df1[df1.License=='none']"
   ]
  },
  {
   "cell_type": "code",
   "execution_count": 26,
   "id": "bfc10011",
   "metadata": {},
   "outputs": [],
   "source": [
    "l=[]\n",
    "for i,j in zip(df1['License'],df1['Genre']):\n",
    "    if i == 'none':\n",
    "        if 'Family' in j:\n",
    "            l.append(i.replace('none','PG'))\n",
    "        else:\n",
    "            l.append(i.replace('none','PG-13'))\n",
    "    else:\n",
    "        l.append(i)"
   ]
  },
  {
   "cell_type": "code",
   "execution_count": 27,
   "id": "8bacdc25",
   "metadata": {},
   "outputs": [],
   "source": [
    "df1['License']=l"
   ]
  },
  {
   "cell_type": "code",
   "execution_count": 28,
   "id": "b6f7d7f9",
   "metadata": {},
   "outputs": [
    {
     "data": {
      "text/plain": [
       "PG-13    473\n",
       "PG       237\n",
       "R        194\n",
       "G         14\n",
       "Name: License, dtype: int64"
      ]
     },
     "execution_count": 28,
     "metadata": {},
     "output_type": "execute_result"
    }
   ],
   "source": [
    "df1['License'].value_counts()"
   ]
  },
  {
   "cell_type": "code",
   "execution_count": 29,
   "id": "4fba78db",
   "metadata": {},
   "outputs": [
    {
     "name": "stdout",
     "output_type": "stream",
     "text": [
      "<class 'pandas.core.frame.DataFrame'>\n",
      "RangeIndex: 918 entries, 0 to 917\n",
      "Data columns (total 9 columns):\n",
      " #   Column                      Non-Null Count  Dtype \n",
      "---  ------                      --------------  ----- \n",
      " 0   Title                       918 non-null    object\n",
      " 1   Distributor                 918 non-null    object\n",
      " 2   Domestic Sales (in $)       918 non-null    int64 \n",
      " 3   International Sales (in $)  918 non-null    int64 \n",
      " 4   World Sales (in $)          918 non-null    int64 \n",
      " 5   Genre                       918 non-null    object\n",
      " 6   License                     918 non-null    object\n",
      " 7   Release year                918 non-null    object\n",
      " 8   Movie Runtime(in min)       918 non-null    int64 \n",
      "dtypes: int64(4), object(5)\n",
      "memory usage: 64.7+ KB\n"
     ]
    }
   ],
   "source": [
    "df1.info()"
   ]
  },
  {
   "cell_type": "code",
   "execution_count": 30,
   "id": "9994c935",
   "metadata": {},
   "outputs": [
    {
     "data": {
      "text/plain": [
       "['Action', 'Adventure', 'Sci-Fi']                                       56\n",
       "['Comedy']                                                              35\n",
       "['Comedy', 'Romance']                                                   30\n",
       "['Action', 'Adventure', 'Thriller']                                     28\n",
       "['Comedy', 'Drama', 'Romance']                                          23\n",
       "                                                                        ..\n",
       "['Adventure', 'Thriller']                                                1\n",
       "['Drama', 'Family']                                                      1\n",
       "['Adventure', 'Comedy', 'Crime', 'Family']                               1\n",
       "['Action', 'Adventure', 'Animation', 'Family', 'Fantasy', 'Mystery']     1\n",
       "['Comedy', 'Crime', 'Musical']                                           1\n",
       "Name: Genre, Length: 309, dtype: int64"
      ]
     },
     "execution_count": 30,
     "metadata": {},
     "output_type": "execute_result"
    }
   ],
   "source": [
    "df1.Genre.value_counts()"
   ]
  },
  {
   "cell_type": "code",
   "execution_count": 31,
   "id": "a59d9378",
   "metadata": {},
   "outputs": [
    {
     "data": {
      "text/plain": [
       "Warner Bros.                           158\n",
       "Walt Disney Studios Motion Pictures    155\n",
       "Universal Pictures                     119\n",
       "Twentieth Century Fox                  117\n",
       "Sony Pictures Entertainment (SPE)      101\n",
       "Paramount Pictures                      99\n",
       "New Line Cinema                         21\n",
       "DreamWorks                              21\n",
       "Lionsgate                               19\n",
       "DreamWorks Distribution                 17\n",
       "Metro-Goldwyn-Mayer (MGM)               12\n",
       "TriStar Pictures                         9\n",
       "Miramax                                  9\n",
       "Revolution Studios                       8\n",
       "Dimension Films                          7\n",
       "Columbia Pictures                        7\n",
       "The Weinstein Company                    6\n",
       "Summit Entertainment                     5\n",
       "Fox Searchlight Pictures                 4\n",
       "Screen Gems                              3\n",
       "STX Entertainment                        3\n",
       "Orion Pictures                           3\n",
       "United Artists                           2\n",
       "Focus Features                           2\n",
       "FilmDistrict                             2\n",
       "Newmarket Films                          1\n",
       "USA Films                                1\n",
       "20th Century Studios                     1\n",
       "Roadside Attractions                     1\n",
       "United Artists Releasing                 1\n",
       "IFC Films                                1\n",
       "Sony Pictures Classics                   1\n",
       "Relativity Media                         1\n",
       "Artisan Entertainment                    1\n",
       "Name: Distributor, dtype: int64"
      ]
     },
     "execution_count": 31,
     "metadata": {},
     "output_type": "execute_result"
    }
   ],
   "source": [
    "df1.Distributor.value_counts()"
   ]
  },
  {
   "cell_type": "code",
   "execution_count": 32,
   "id": "00d2c31b",
   "metadata": {},
   "outputs": [],
   "source": [
    "df1.Distributor=df1.Distributor.apply(lambda x : x.replace('DreamWorks Distribution','DreamWorks'))"
   ]
  },
  {
   "cell_type": "code",
   "execution_count": 33,
   "id": "af735701",
   "metadata": {},
   "outputs": [
    {
     "data": {
      "text/plain": [
       "Warner Bros.                           158\n",
       "Walt Disney Studios Motion Pictures    155\n",
       "Universal Pictures                     119\n",
       "Twentieth Century Fox                  117\n",
       "Sony Pictures Entertainment (SPE)      101\n",
       "Paramount Pictures                      99\n",
       "DreamWorks                              38\n",
       "New Line Cinema                         21\n",
       "Lionsgate                               19\n",
       "Metro-Goldwyn-Mayer (MGM)               12\n",
       "TriStar Pictures                         9\n",
       "Miramax                                  9\n",
       "Revolution Studios                       8\n",
       "Columbia Pictures                        7\n",
       "Dimension Films                          7\n",
       "The Weinstein Company                    6\n",
       "Summit Entertainment                     5\n",
       "Fox Searchlight Pictures                 4\n",
       "Screen Gems                              3\n",
       "STX Entertainment                        3\n",
       "Orion Pictures                           3\n",
       "Focus Features                           2\n",
       "United Artists                           2\n",
       "FilmDistrict                             2\n",
       "Relativity Media                         1\n",
       "IFC Films                                1\n",
       "USA Films                                1\n",
       "Artisan Entertainment                    1\n",
       "Sony Pictures Classics                   1\n",
       "20th Century Studios                     1\n",
       "Roadside Attractions                     1\n",
       "United Artists Releasing                 1\n",
       "Newmarket Films                          1\n",
       "Name: Distributor, dtype: int64"
      ]
     },
     "execution_count": 33,
     "metadata": {},
     "output_type": "execute_result"
    }
   ],
   "source": [
    "df1.Distributor.value_counts()"
   ]
  },
  {
   "cell_type": "code",
   "execution_count": 34,
   "id": "e1219fd8",
   "metadata": {},
   "outputs": [
    {
     "data": {
      "text/html": [
       "<div>\n",
       "<style scoped>\n",
       "    .dataframe tbody tr th:only-of-type {\n",
       "        vertical-align: middle;\n",
       "    }\n",
       "\n",
       "    .dataframe tbody tr th {\n",
       "        vertical-align: top;\n",
       "    }\n",
       "\n",
       "    .dataframe thead th {\n",
       "        text-align: right;\n",
       "    }\n",
       "</style>\n",
       "<table border=\"1\" class=\"dataframe\">\n",
       "  <thead>\n",
       "    <tr style=\"text-align: right;\">\n",
       "      <th></th>\n",
       "      <th>Title</th>\n",
       "      <th>Distributor</th>\n",
       "      <th>Domestic Sales (in $)</th>\n",
       "      <th>International Sales (in $)</th>\n",
       "      <th>World Sales (in $)</th>\n",
       "      <th>Genre</th>\n",
       "      <th>License</th>\n",
       "      <th>Release year</th>\n",
       "      <th>Movie Runtime(in min)</th>\n",
       "    </tr>\n",
       "  </thead>\n",
       "  <tbody>\n",
       "    <tr>\n",
       "      <th>0</th>\n",
       "      <td>Star Wars: Episode VII - The Force Awakens</td>\n",
       "      <td>Walt Disney Studios Motion Pictures</td>\n",
       "      <td>936662225</td>\n",
       "      <td>1132859475</td>\n",
       "      <td>2069521700</td>\n",
       "      <td>['Action', 'Adventure', 'Sci-Fi']</td>\n",
       "      <td>PG-13</td>\n",
       "      <td>2015</td>\n",
       "      <td>138</td>\n",
       "    </tr>\n",
       "    <tr>\n",
       "      <th>1</th>\n",
       "      <td>Avengers: Endgame</td>\n",
       "      <td>Walt Disney Studios Motion Pictures</td>\n",
       "      <td>858373000</td>\n",
       "      <td>1939128328</td>\n",
       "      <td>2797501328</td>\n",
       "      <td>['Action', 'Adventure', 'Drama', 'Sci-Fi']</td>\n",
       "      <td>PG-13</td>\n",
       "      <td>2019</td>\n",
       "      <td>181</td>\n",
       "    </tr>\n",
       "    <tr>\n",
       "      <th>2</th>\n",
       "      <td>Avatar</td>\n",
       "      <td>Twentieth Century Fox</td>\n",
       "      <td>760507625</td>\n",
       "      <td>2086738578</td>\n",
       "      <td>2847246203</td>\n",
       "      <td>['Action', 'Adventure', 'Fantasy', 'Sci-Fi']</td>\n",
       "      <td>PG-13</td>\n",
       "      <td>2009</td>\n",
       "      <td>162</td>\n",
       "    </tr>\n",
       "    <tr>\n",
       "      <th>3</th>\n",
       "      <td>Black Panther</td>\n",
       "      <td>Walt Disney Studios Motion Pictures</td>\n",
       "      <td>700426566</td>\n",
       "      <td>647171407</td>\n",
       "      <td>1347597973</td>\n",
       "      <td>['Action', 'Adventure', 'Sci-Fi']</td>\n",
       "      <td>PG-13</td>\n",
       "      <td>2018</td>\n",
       "      <td>134</td>\n",
       "    </tr>\n",
       "    <tr>\n",
       "      <th>4</th>\n",
       "      <td>Avengers: Infinity War</td>\n",
       "      <td>Walt Disney Studios Motion Pictures</td>\n",
       "      <td>678815482</td>\n",
       "      <td>1369544272</td>\n",
       "      <td>2048359754</td>\n",
       "      <td>['Action', 'Adventure', 'Sci-Fi']</td>\n",
       "      <td>PG-13</td>\n",
       "      <td>2018</td>\n",
       "      <td>149</td>\n",
       "    </tr>\n",
       "  </tbody>\n",
       "</table>\n",
       "</div>"
      ],
      "text/plain": [
       "                                         Title  \\\n",
       "0  Star Wars: Episode VII - The Force Awakens    \n",
       "1                           Avengers: Endgame    \n",
       "2                                      Avatar    \n",
       "3                               Black Panther    \n",
       "4                      Avengers: Infinity War    \n",
       "\n",
       "                           Distributor  Domestic Sales (in $)  \\\n",
       "0  Walt Disney Studios Motion Pictures              936662225   \n",
       "1  Walt Disney Studios Motion Pictures              858373000   \n",
       "2                Twentieth Century Fox              760507625   \n",
       "3  Walt Disney Studios Motion Pictures              700426566   \n",
       "4  Walt Disney Studios Motion Pictures              678815482   \n",
       "\n",
       "   International Sales (in $)  World Sales (in $)  \\\n",
       "0                  1132859475          2069521700   \n",
       "1                  1939128328          2797501328   \n",
       "2                  2086738578          2847246203   \n",
       "3                   647171407          1347597973   \n",
       "4                  1369544272          2048359754   \n",
       "\n",
       "                                          Genre License Release year  \\\n",
       "0             ['Action', 'Adventure', 'Sci-Fi']   PG-13         2015   \n",
       "1    ['Action', 'Adventure', 'Drama', 'Sci-Fi']   PG-13         2019   \n",
       "2  ['Action', 'Adventure', 'Fantasy', 'Sci-Fi']   PG-13         2009   \n",
       "3             ['Action', 'Adventure', 'Sci-Fi']   PG-13         2018   \n",
       "4             ['Action', 'Adventure', 'Sci-Fi']   PG-13         2018   \n",
       "\n",
       "   Movie Runtime(in min)  \n",
       "0                    138  \n",
       "1                    181  \n",
       "2                    162  \n",
       "3                    134  \n",
       "4                    149  "
      ]
     },
     "execution_count": 34,
     "metadata": {},
     "output_type": "execute_result"
    }
   ],
   "source": [
    "df1.head()"
   ]
  },
  {
   "cell_type": "markdown",
   "id": "ff33e669",
   "metadata": {},
   "source": [
    "# EDA"
   ]
  },
  {
   "cell_type": "markdown",
   "id": "e437175c",
   "metadata": {},
   "source": [
    "# univariate analysis"
   ]
  },
  {
   "cell_type": "code",
   "execution_count": 45,
   "id": "c48ab724",
   "metadata": {},
   "outputs": [
    {
     "data": {
      "text/plain": [
       "<AxesSubplot:>"
      ]
     },
     "execution_count": 45,
     "metadata": {},
     "output_type": "execute_result"
    },
    {
     "data": {
      "text/plain": [
       "<Figure size 720x576 with 0 Axes>"
      ]
     },
     "metadata": {},
     "output_type": "display_data"
    },
    {
     "data": {
      "image/png": "[encoded data removed]",
      "text/plain": [
       "<Figure size 432x288 with 1 Axes>"
      ]
     },
     "metadata": {
      "needs_background": "light"
     },
     "output_type": "display_data"
    }
   ],
   "source": [
    "plt.figure(figsize=(10,8))\n",
    "df1['Distributor'].value_counts().to_frame().plot(kind='bar')"
   ]
  },
  {
   "cell_type": "code",
   "execution_count": 54,
   "id": "c925992f",
   "metadata": {},
   "outputs": [
    {
     "data": {
      "image/png": "[encoded data removed]",
      "text/plain": [
       "<Figure size 432x432 with 1 Axes>"
      ]
     },
     "metadata": {
      "needs_background": "light"
     },
     "output_type": "display_data"
    }
   ],
   "source": [
    "plt.figure(figsize=(6,6))\n",
    "plt.hist(df1['Domestic Sales (in $)'],color='cyan',edgecolor='green');"
   ]
  },
  {
   "cell_type": "code",
   "execution_count": 55,
   "id": "83a3d21c",
   "metadata": {},
   "outputs": [
    {
     "data": {
      "image/png": "[encoded data removed]",
      "text/plain": [
       "<Figure size 432x432 with 1 Axes>"
      ]
     },
     "metadata": {
      "needs_background": "light"
     },
     "output_type": "display_data"
    }
   ],
   "source": [
    "plt.figure(figsize=(6,6))\n",
    "plt.hist(df1['International Sales (in $)'],color='cyan',edgecolor='green');"
   ]
  },
  {
   "cell_type": "code",
   "execution_count": 56,
   "id": "7db74515",
   "metadata": {},
   "outputs": [
    {
     "data": {
      "image/png": "[encoded data removed]",
      "text/plain": [
       "<Figure size 432x432 with 1 Axes>"
      ]
     },
     "metadata": {
      "needs_background": "light"
     },
     "output_type": "display_data"
    }
   ],
   "source": [
    "plt.figure(figsize=(6,6))\n",
    "plt.hist(df1['World Sales (in $)'],color='cyan',edgecolor='green');"
   ]
  },
  {
   "cell_type": "code",
   "execution_count": 61,
   "id": "13d1cb43",
   "metadata": {},
   "outputs": [
    {
     "data": {
      "image/png": "[encoded data removed]",
      "text/plain": [
       "<Figure size 432x432 with 1 Axes>"
      ]
     },
     "metadata": {
      "needs_background": "light"
     },
     "output_type": "display_data"
    }
   ],
   "source": [
    "plt.figure(figsize=(6,6))\n",
    "sns.countplot(df1['License']);"
   ]
  },
  {
   "cell_type": "code",
   "execution_count": 62,
   "id": "e4edb3e9",
   "metadata": {},
   "outputs": [
    {
     "data": {
      "image/png": "[encoded data removed]",
      "text/plain": [
       "<Figure size 432x432 with 1 Axes>"
      ]
     },
     "metadata": {
      "needs_background": "light"
     },
     "output_type": "display_data"
    }
   ],
   "source": [
    "plt.figure(figsize=(6,6))\n",
    "plt.hist(df1['Movie Runtime(in min)'],color='r',edgecolor='green');"
   ]
  },
  {
   "cell_type": "code",
   "execution_count": 64,
   "id": "d112a8f6",
   "metadata": {},
   "outputs": [
    {
     "data": {
      "image/png": "[encoded data removed]",
      "text/plain": [
       "<Figure size 432x432 with 1 Axes>"
      ]
     },
     "metadata": {
      "needs_background": "light"
     },
     "output_type": "display_data"
    }
   ],
   "source": [
    "plt.figure(figsize=(6,6))\n",
    "sns.distplot(df['Domestic Sales (in $)'],bins=10)\n",
    "plt.title('distribution plot on Domestic Sales (in $)')\n",
    "plt.show()"
   ]
  },
  {
   "cell_type": "code",
   "execution_count": 65,
   "id": "47931659",
   "metadata": {},
   "outputs": [
    {
     "data": {
      "image/png": "[encoded data removed]",
      "text/plain": [
       "<Figure size 432x432 with 1 Axes>"
      ]
     },
     "metadata": {
      "needs_background": "light"
     },
     "output_type": "display_data"
    }
   ],
   "source": [
    "plt.figure(figsize=(6,6))\n",
    "sns.distplot(df['World Sales (in $)'],bins=10)\n",
    "plt.title('distribution plot on World Sales (in $)')\n",
    "plt.show()"
   ]
  },
  {
   "cell_type": "code",
   "execution_count": 73,
   "id": "fdc56a94",
   "metadata": {},
   "outputs": [
    {
     "data": {
      "text/html": [
       "<div>\n",
       "<style scoped>\n",
       "    .dataframe tbody tr th:only-of-type {\n",
       "        vertical-align: middle;\n",
       "    }\n",
       "\n",
       "    .dataframe tbody tr th {\n",
       "        vertical-align: top;\n",
       "    }\n",
       "\n",
       "    .dataframe thead th {\n",
       "        text-align: right;\n",
       "    }\n",
       "</style>\n",
       "<table border=\"1\" class=\"dataframe\">\n",
       "  <thead>\n",
       "    <tr style=\"text-align: right;\">\n",
       "      <th></th>\n",
       "      <th>World Sales (in $)</th>\n",
       "    </tr>\n",
       "    <tr>\n",
       "      <th>Distributor</th>\n",
       "      <th></th>\n",
       "    </tr>\n",
       "  </thead>\n",
       "  <tbody>\n",
       "    <tr>\n",
       "      <th>20th Century Studios</th>\n",
       "      <td>331503757</td>\n",
       "    </tr>\n",
       "    <tr>\n",
       "      <th>Artisan Entertainment</th>\n",
       "      <td>248639099</td>\n",
       "    </tr>\n",
       "    <tr>\n",
       "      <th>Columbia Pictures</th>\n",
       "      <td>1374209626</td>\n",
       "    </tr>\n",
       "    <tr>\n",
       "      <th>Dimension Films</th>\n",
       "      <td>1223005113</td>\n",
       "    </tr>\n",
       "    <tr>\n",
       "      <th>DreamWorks</th>\n",
       "      <td>16227615855</td>\n",
       "    </tr>\n",
       "    <tr>\n",
       "      <th>FilmDistrict</th>\n",
       "      <td>332189519</td>\n",
       "    </tr>\n",
       "    <tr>\n",
       "      <th>Focus Features</th>\n",
       "      <td>415922809</td>\n",
       "    </tr>\n",
       "    <tr>\n",
       "      <th>Fox Searchlight Pictures</th>\n",
       "      <td>1117424454</td>\n",
       "    </tr>\n",
       "    <tr>\n",
       "      <th>IFC Films</th>\n",
       "      <td>368744044</td>\n",
       "    </tr>\n",
       "    <tr>\n",
       "      <th>Lionsgate</th>\n",
       "      <td>7498505934</td>\n",
       "    </tr>\n",
       "    <tr>\n",
       "      <th>Metro-Goldwyn-Mayer (MGM)</th>\n",
       "      <td>3717884355</td>\n",
       "    </tr>\n",
       "    <tr>\n",
       "      <th>Miramax</th>\n",
       "      <td>2058591162</td>\n",
       "    </tr>\n",
       "    <tr>\n",
       "      <th>New Line Cinema</th>\n",
       "      <td>7066345995</td>\n",
       "    </tr>\n",
       "    <tr>\n",
       "      <th>Newmarket Films</th>\n",
       "      <td>612054506</td>\n",
       "    </tr>\n",
       "    <tr>\n",
       "      <th>Orion Pictures</th>\n",
       "      <td>835497402</td>\n",
       "    </tr>\n",
       "    <tr>\n",
       "      <th>Paramount Pictures</th>\n",
       "      <td>32443523480</td>\n",
       "    </tr>\n",
       "    <tr>\n",
       "      <th>Relativity Media</th>\n",
       "      <td>226904017</td>\n",
       "    </tr>\n",
       "    <tr>\n",
       "      <th>Revolution Studios</th>\n",
       "      <td>1442436078</td>\n",
       "    </tr>\n",
       "    <tr>\n",
       "      <th>Roadside Attractions</th>\n",
       "      <td>86086881</td>\n",
       "    </tr>\n",
       "    <tr>\n",
       "      <th>STX Entertainment</th>\n",
       "      <td>467355852</td>\n",
       "    </tr>\n",
       "    <tr>\n",
       "      <th>Screen Gems</th>\n",
       "      <td>449946079</td>\n",
       "    </tr>\n",
       "    <tr>\n",
       "      <th>Sony Pictures Classics</th>\n",
       "      <td>213525736</td>\n",
       "    </tr>\n",
       "    <tr>\n",
       "      <th>Sony Pictures Entertainment (SPE)</th>\n",
       "      <td>37456488081</td>\n",
       "    </tr>\n",
       "    <tr>\n",
       "      <th>Summit Entertainment</th>\n",
       "      <td>2729159486</td>\n",
       "    </tr>\n",
       "    <tr>\n",
       "      <th>The Weinstein Company</th>\n",
       "      <td>1822188393</td>\n",
       "    </tr>\n",
       "    <tr>\n",
       "      <th>TriStar Pictures</th>\n",
       "      <td>2483548026</td>\n",
       "    </tr>\n",
       "    <tr>\n",
       "      <th>Twentieth Century Fox</th>\n",
       "      <td>48588894179</td>\n",
       "    </tr>\n",
       "    <tr>\n",
       "      <th>USA Films</th>\n",
       "      <td>207515725</td>\n",
       "    </tr>\n",
       "    <tr>\n",
       "      <th>United Artists</th>\n",
       "      <td>502019233</td>\n",
       "    </tr>\n",
       "    <tr>\n",
       "      <th>United Artists Releasing</th>\n",
       "      <td>203783845</td>\n",
       "    </tr>\n",
       "    <tr>\n",
       "      <th>Universal Pictures</th>\n",
       "      <td>45602644818</td>\n",
       "    </tr>\n",
       "    <tr>\n",
       "      <th>Walt Disney Studios Motion Pictures</th>\n",
       "      <td>82372098598</td>\n",
       "    </tr>\n",
       "    <tr>\n",
       "      <th>Warner Bros.</th>\n",
       "      <td>63597493931</td>\n",
       "    </tr>\n",
       "  </tbody>\n",
       "</table>\n",
       "</div>"
      ],
      "text/plain": [
       "                                     World Sales (in $)\n",
       "Distributor                                            \n",
       "20th Century Studios                          331503757\n",
       "Artisan Entertainment                         248639099\n",
       "Columbia Pictures                            1374209626\n",
       "Dimension Films                              1223005113\n",
       "DreamWorks                                  16227615855\n",
       "FilmDistrict                                  332189519\n",
       "Focus Features                                415922809\n",
       "Fox Searchlight Pictures                     1117424454\n",
       "IFC Films                                     368744044\n",
       "Lionsgate                                    7498505934\n",
       "Metro-Goldwyn-Mayer (MGM)                    3717884355\n",
       "Miramax                                      2058591162\n",
       "New Line Cinema                              7066345995\n",
       "Newmarket Films                               612054506\n",
       "Orion Pictures                                835497402\n",
       "Paramount Pictures                          32443523480\n",
       "Relativity Media                              226904017\n",
       "Revolution Studios                           1442436078\n",
       "Roadside Attractions                           86086881\n",
       "STX Entertainment                             467355852\n",
       "Screen Gems                                   449946079\n",
       "Sony Pictures Classics                        213525736\n",
       "Sony Pictures Entertainment (SPE)           37456488081\n",
       "Summit Entertainment                         2729159486\n",
       "The Weinstein Company                        1822188393\n",
       "TriStar Pictures                             2483548026\n",
       "Twentieth Century Fox                       48588894179\n",
       "USA Films                                     207515725\n",
       "United Artists                                502019233\n",
       "United Artists Releasing                      203783845\n",
       "Universal Pictures                          45602644818\n",
       "Walt Disney Studios Motion Pictures         82372098598\n",
       "Warner Bros.                                63597493931"
      ]
     },
     "execution_count": 73,
     "metadata": {},
     "output_type": "execute_result"
    }
   ],
   "source": [
    "df1[['Distributor','World Sales (in $)']].groupby(['Distributor']).sum()"
   ]
  },
  {
   "cell_type": "code",
   "execution_count": null,
   "id": "d99ec951",
   "metadata": {},
   "outputs": [],
   "source": []
  }
 ],
 "metadata": {
  "kernelspec": {
   "display_name": "Python 3",
   "language": "python",
   "name": "python3"
  },
  "language_info": {
   "codemirror_mode": {
    "name": "ipython",
    "version": 3
   },
   "file_extension": ".py",
   "mimetype": "text/x-python",
   "name": "python",
   "nbconvert_exporter": "python",
   "pygments_lexer": "ipython3",
   "version": "3.8.8"
  }
 },
 "nbformat": 4,
 "nbformat_minor": 5
}
